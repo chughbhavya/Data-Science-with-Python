{
 "cells": [
  {
   "cell_type": "markdown",
   "metadata": {},
   "source": [
    "Extracting the data from my S3 bucket for the COVID19 and then performing analysis on the same"
   ]
  },
  {
   "cell_type": "code",
   "execution_count": 215,
   "metadata": {},
   "outputs": [],
   "source": [
    "import boto3\n",
    "from datetime import date\n",
    "datetoday = date.today()\n",
    "client = boto3.client('s3')\n",
    "obj = client.get_object(Bucket='covid19result', Key='Unsaved/2020/04/' + str(datetoday.day) + '/1476d1ef-1ef9-415d-93df-9ec55941a9fd.csv')"
   ]
  },
  {
   "cell_type": "code",
   "execution_count": null,
   "metadata": {},
   "outputs": [],
   "source": [
    "Importing all the necessray libraries"
   ]
  },
  {
   "cell_type": "code",
   "execution_count": 216,
   "metadata": {},
   "outputs": [],
   "source": [
    "import pandas as pd\n",
    "import math\n",
    "import matplotlib.pyplot as plt"
   ]
  },
  {
   "cell_type": "code",
   "execution_count": 217,
   "metadata": {},
   "outputs": [
    {
     "data": {
      "text/html": [
       "<div>\n",
       "<style scoped>\n",
       "    .dataframe tbody tr th:only-of-type {\n",
       "        vertical-align: middle;\n",
       "    }\n",
       "\n",
       "    .dataframe tbody tr th {\n",
       "        vertical-align: top;\n",
       "    }\n",
       "\n",
       "    .dataframe thead th {\n",
       "        text-align: right;\n",
       "    }\n",
       "</style>\n",
       "<table border=\"1\" class=\"dataframe\">\n",
       "  <thead>\n",
       "    <tr style=\"text-align: right;\">\n",
       "      <th></th>\n",
       "      <th>date</th>\n",
       "      <th>state</th>\n",
       "      <th>positive</th>\n",
       "      <th>negative</th>\n",
       "      <th>pending</th>\n",
       "      <th>hospitalized</th>\n",
       "      <th>death</th>\n",
       "      <th>total</th>\n",
       "      <th>hash</th>\n",
       "      <th>datechecked</th>\n",
       "      <th>totaltestresults</th>\n",
       "      <th>fips</th>\n",
       "      <th>deathincrease</th>\n",
       "      <th>hospitalizedincrease</th>\n",
       "      <th>negativeincrease</th>\n",
       "      <th>positiveincrease</th>\n",
       "      <th>totaltestresultsincrease</th>\n",
       "    </tr>\n",
       "  </thead>\n",
       "  <tbody>\n",
       "    <tr>\n",
       "      <th>0</th>\n",
       "      <td>20200412</td>\n",
       "      <td>AK</td>\n",
       "      <td>272.0</td>\n",
       "      <td>7766.0</td>\n",
       "      <td>NaN</td>\n",
       "      <td>31.0</td>\n",
       "      <td>8.0</td>\n",
       "      <td>8038.0</td>\n",
       "      <td>5f686eece203e247c3bfb219c664517920d7c141</td>\n",
       "      <td>2020-04-12T20:00:00Z</td>\n",
       "      <td>8038.0</td>\n",
       "      <td>2</td>\n",
       "      <td>0.0</td>\n",
       "      <td>0.0</td>\n",
       "      <td>291.0</td>\n",
       "      <td>15.0</td>\n",
       "      <td>306.0</td>\n",
       "    </tr>\n",
       "    <tr>\n",
       "      <th>1</th>\n",
       "      <td>20200412</td>\n",
       "      <td>AL</td>\n",
       "      <td>3525.0</td>\n",
       "      <td>18058.0</td>\n",
       "      <td>NaN</td>\n",
       "      <td>437.0</td>\n",
       "      <td>93.0</td>\n",
       "      <td>21583.0</td>\n",
       "      <td>a10003b9814203ba98d289480736cff0b00b4009</td>\n",
       "      <td>2020-04-12T20:00:00Z</td>\n",
       "      <td>21583.0</td>\n",
       "      <td>1</td>\n",
       "      <td>2.0</td>\n",
       "      <td>35.0</td>\n",
       "      <td>0.0</td>\n",
       "      <td>334.0</td>\n",
       "      <td>334.0</td>\n",
       "    </tr>\n",
       "    <tr>\n",
       "      <th>2</th>\n",
       "      <td>20200412</td>\n",
       "      <td>AR</td>\n",
       "      <td>1280.0</td>\n",
       "      <td>18442.0</td>\n",
       "      <td>NaN</td>\n",
       "      <td>130.0</td>\n",
       "      <td>27.0</td>\n",
       "      <td>19722.0</td>\n",
       "      <td>6c7bd80088061ed07c0e558496324807bfdba9e0</td>\n",
       "      <td>2020-04-12T20:00:00Z</td>\n",
       "      <td>19722.0</td>\n",
       "      <td>5</td>\n",
       "      <td>3.0</td>\n",
       "      <td>0.0</td>\n",
       "      <td>1090.0</td>\n",
       "      <td>54.0</td>\n",
       "      <td>1144.0</td>\n",
       "    </tr>\n",
       "    <tr>\n",
       "      <th>3</th>\n",
       "      <td>20200412</td>\n",
       "      <td>AS</td>\n",
       "      <td>0.0</td>\n",
       "      <td>3.0</td>\n",
       "      <td>2.0</td>\n",
       "      <td>NaN</td>\n",
       "      <td>NaN</td>\n",
       "      <td>5.0</td>\n",
       "      <td>30bdeb66442be44960060acf5492b2203bbe4112</td>\n",
       "      <td>2020-04-12T20:00:00Z</td>\n",
       "      <td>3.0</td>\n",
       "      <td>60</td>\n",
       "      <td>0.0</td>\n",
       "      <td>0.0</td>\n",
       "      <td>0.0</td>\n",
       "      <td>0.0</td>\n",
       "      <td>0.0</td>\n",
       "    </tr>\n",
       "    <tr>\n",
       "      <th>4</th>\n",
       "      <td>20200412</td>\n",
       "      <td>AZ</td>\n",
       "      <td>3539.0</td>\n",
       "      <td>38570.0</td>\n",
       "      <td>NaN</td>\n",
       "      <td>NaN</td>\n",
       "      <td>115.0</td>\n",
       "      <td>42109.0</td>\n",
       "      <td>994b2dd7ad7e22da1720b4f9eaf7248665bcd81a</td>\n",
       "      <td>2020-04-12T20:00:00Z</td>\n",
       "      <td>42109.0</td>\n",
       "      <td>4</td>\n",
       "      <td>7.0</td>\n",
       "      <td>0.0</td>\n",
       "      <td>1433.0</td>\n",
       "      <td>146.0</td>\n",
       "      <td>1579.0</td>\n",
       "    </tr>\n",
       "  </tbody>\n",
       "</table>\n",
       "</div>"
      ],
      "text/plain": [
       "       date state  positive  negative  pending  hospitalized  death    total  \\\n",
       "0  20200412    AK     272.0    7766.0      NaN          31.0    8.0   8038.0   \n",
       "1  20200412    AL    3525.0   18058.0      NaN         437.0   93.0  21583.0   \n",
       "2  20200412    AR    1280.0   18442.0      NaN         130.0   27.0  19722.0   \n",
       "3  20200412    AS       0.0       3.0      2.0           NaN    NaN      5.0   \n",
       "4  20200412    AZ    3539.0   38570.0      NaN           NaN  115.0  42109.0   \n",
       "\n",
       "                                       hash           datechecked  \\\n",
       "0  5f686eece203e247c3bfb219c664517920d7c141  2020-04-12T20:00:00Z   \n",
       "1  a10003b9814203ba98d289480736cff0b00b4009  2020-04-12T20:00:00Z   \n",
       "2  6c7bd80088061ed07c0e558496324807bfdba9e0  2020-04-12T20:00:00Z   \n",
       "3  30bdeb66442be44960060acf5492b2203bbe4112  2020-04-12T20:00:00Z   \n",
       "4  994b2dd7ad7e22da1720b4f9eaf7248665bcd81a  2020-04-12T20:00:00Z   \n",
       "\n",
       "   totaltestresults  fips  deathincrease  hospitalizedincrease  \\\n",
       "0            8038.0     2            0.0                   0.0   \n",
       "1           21583.0     1            2.0                  35.0   \n",
       "2           19722.0     5            3.0                   0.0   \n",
       "3               3.0    60            0.0                   0.0   \n",
       "4           42109.0     4            7.0                   0.0   \n",
       "\n",
       "   negativeincrease  positiveincrease  totaltestresultsincrease  \n",
       "0             291.0              15.0                     306.0  \n",
       "1               0.0             334.0                     334.0  \n",
       "2            1090.0              54.0                    1144.0  \n",
       "3               0.0               0.0                       0.0  \n",
       "4            1433.0             146.0                    1579.0  "
      ]
     },
     "execution_count": 217,
     "metadata": {},
     "output_type": "execute_result"
    }
   ],
   "source": [
    "df = pd.read_csv(obj['Body'])\n",
    "df.head()"
   ]
  },
  {
   "cell_type": "code",
   "execution_count": 151,
   "metadata": {},
   "outputs": [
    {
     "data": {
      "text/plain": [
       "date                          int64\n",
       "state                        object\n",
       "positive                    float64\n",
       "negative                    float64\n",
       "pending                     float64\n",
       "hospitalized                float64\n",
       "death                       float64\n",
       "total                       float64\n",
       "hash                         object\n",
       "datechecked                  object\n",
       "totaltestresults            float64\n",
       "fips                          int64\n",
       "deathincrease               float64\n",
       "hospitalizedincrease        float64\n",
       "negativeincrease            float64\n",
       "positiveincrease            float64\n",
       "totaltestresultsincrease    float64\n",
       "dtype: object"
      ]
     },
     "execution_count": 151,
     "metadata": {},
     "output_type": "execute_result"
    }
   ],
   "source": [
    "df.dtypes"
   ]
  },
  {
   "cell_type": "code",
   "execution_count": 218,
   "metadata": {},
   "outputs": [
    {
     "data": {
      "text/plain": [
       "date                        2112\n",
       "state                       2112\n",
       "positive                    2097\n",
       "negative                    1960\n",
       "pending                      513\n",
       "hospitalized                 590\n",
       "death                       1407\n",
       "total                       2110\n",
       "hash                        2112\n",
       "datechecked                 2112\n",
       "totaltestresults            2110\n",
       "fips                        2112\n",
       "deathincrease               2056\n",
       "hospitalizedincrease        2056\n",
       "negativeincrease            2056\n",
       "positiveincrease            2056\n",
       "totaltestresultsincrease    2056\n",
       "dtype: int64"
      ]
     },
     "execution_count": 218,
     "metadata": {},
     "output_type": "execute_result"
    }
   ],
   "source": [
    "df.count()\n",
    "#df.fillna(df['pending'].mean(), inplace=True)\n",
    "#df.fillna(df['negative'].mean(), inplace=True)"
   ]
  },
  {
   "cell_type": "code",
   "execution_count": 219,
   "metadata": {},
   "outputs": [
    {
     "name": "stderr",
     "output_type": "stream",
     "text": [
      "/Library/Frameworks/Python.framework/Versions/3.8/lib/python3.8/site-packages/pandas/core/frame.py:4147: SettingWithCopyWarning: \n",
      "A value is trying to be set on a copy of a slice from a DataFrame\n",
      "\n",
      "See the caveats in the documentation: https://pandas.pydata.org/pandas-docs/stable/user_guide/indexing.html#returning-a-view-versus-a-copy\n",
      "  return super().fillna(\n"
     ]
    },
    {
     "data": {
      "text/plain": [
       "date                        56\n",
       "state                       56\n",
       "positive                    56\n",
       "negative                    56\n",
       "pending                     56\n",
       "hospitalized                56\n",
       "death                       56\n",
       "total                       56\n",
       "hash                        56\n",
       "datechecked                 56\n",
       "totaltestresults            56\n",
       "fips                        56\n",
       "deathincrease               56\n",
       "hospitalizedincrease        56\n",
       "negativeincrease            56\n",
       "positiveincrease            56\n",
       "totaltestresultsincrease    56\n",
       "dtype: int64"
      ]
     },
     "execution_count": 219,
     "metadata": {},
     "output_type": "execute_result"
    }
   ],
   "source": [
    "df_today = df[df['date'] == 20200409]\n",
    "df_today.fillna(df_today['pending'].mean(), inplace=True)\n",
    "df_today.fillna(df_today['negative'].mean(), inplace=True)\n",
    "df_today.count()"
   ]
  },
  {
   "cell_type": "code",
   "execution_count": 60,
   "metadata": {},
   "outputs": [],
   "source": [
    "df_today = df_today.dropna(inplace=True)"
   ]
  },
  {
   "cell_type": "code",
   "execution_count": 152,
   "metadata": {},
   "outputs": [
    {
     "data": {
      "text/html": [
       "<div>\n",
       "<style scoped>\n",
       "    .dataframe tbody tr th:only-of-type {\n",
       "        vertical-align: middle;\n",
       "    }\n",
       "\n",
       "    .dataframe tbody tr th {\n",
       "        vertical-align: top;\n",
       "    }\n",
       "\n",
       "    .dataframe thead th {\n",
       "        text-align: right;\n",
       "    }\n",
       "</style>\n",
       "<table border=\"1\" class=\"dataframe\">\n",
       "  <thead>\n",
       "    <tr style=\"text-align: right;\">\n",
       "      <th></th>\n",
       "      <th>date</th>\n",
       "      <th>state</th>\n",
       "      <th>positive</th>\n",
       "      <th>negative</th>\n",
       "      <th>pending</th>\n",
       "      <th>hospitalized</th>\n",
       "      <th>death</th>\n",
       "      <th>total</th>\n",
       "      <th>hash</th>\n",
       "      <th>datechecked</th>\n",
       "      <th>totaltestresults</th>\n",
       "      <th>fips</th>\n",
       "      <th>deathincrease</th>\n",
       "      <th>hospitalizedincrease</th>\n",
       "      <th>negativeincrease</th>\n",
       "      <th>positiveincrease</th>\n",
       "      <th>totaltestresultsincrease</th>\n",
       "    </tr>\n",
       "  </thead>\n",
       "  <tbody>\n",
       "    <tr>\n",
       "      <th>51</th>\n",
       "      <td>20200409</td>\n",
       "      <td>VT</td>\n",
       "      <td>628.0</td>\n",
       "      <td>7553.0</td>\n",
       "      <td>1572.501022</td>\n",
       "      <td>1572.501022</td>\n",
       "      <td>23.0</td>\n",
       "      <td>8181.0</td>\n",
       "      <td>24b22733110eb020e8f1caee0a2cb8db9dd3b934</td>\n",
       "      <td>2020-04-09T20:00:00Z</td>\n",
       "      <td>8181.0</td>\n",
       "      <td>50</td>\n",
       "      <td>0.0</td>\n",
       "      <td>0.0</td>\n",
       "      <td>409.0</td>\n",
       "      <td>23.0</td>\n",
       "      <td>432.0</td>\n",
       "    </tr>\n",
       "    <tr>\n",
       "      <th>52</th>\n",
       "      <td>20200409</td>\n",
       "      <td>WA</td>\n",
       "      <td>9097.0</td>\n",
       "      <td>83391.0</td>\n",
       "      <td>1572.501022</td>\n",
       "      <td>1572.501022</td>\n",
       "      <td>421.0</td>\n",
       "      <td>92488.0</td>\n",
       "      <td>4432fef25b711ff1fdb9f13c0865d67bb2fa9628</td>\n",
       "      <td>2020-04-09T20:00:00Z</td>\n",
       "      <td>92488.0</td>\n",
       "      <td>53</td>\n",
       "      <td>27.0</td>\n",
       "      <td>0.0</td>\n",
       "      <td>0.0</td>\n",
       "      <td>0.0</td>\n",
       "      <td>0.0</td>\n",
       "    </tr>\n",
       "    <tr>\n",
       "      <th>53</th>\n",
       "      <td>20200409</td>\n",
       "      <td>WI</td>\n",
       "      <td>2885.0</td>\n",
       "      <td>31424.0</td>\n",
       "      <td>1572.501022</td>\n",
       "      <td>843.000000</td>\n",
       "      <td>111.0</td>\n",
       "      <td>34309.0</td>\n",
       "      <td>aa5c7ae162799320b7accdadf68720fdb6c50f52</td>\n",
       "      <td>2020-04-09T20:00:00Z</td>\n",
       "      <td>34309.0</td>\n",
       "      <td>55</td>\n",
       "      <td>12.0</td>\n",
       "      <td>53.0</td>\n",
       "      <td>1309.0</td>\n",
       "      <td>129.0</td>\n",
       "      <td>1438.0</td>\n",
       "    </tr>\n",
       "    <tr>\n",
       "      <th>54</th>\n",
       "      <td>20200409</td>\n",
       "      <td>WV</td>\n",
       "      <td>523.0</td>\n",
       "      <td>13340.0</td>\n",
       "      <td>1572.501022</td>\n",
       "      <td>1572.501022</td>\n",
       "      <td>5.0</td>\n",
       "      <td>13863.0</td>\n",
       "      <td>54cf0e05059125cce24ebdf1fdfdff35af1f361b</td>\n",
       "      <td>2020-04-09T20:00:00Z</td>\n",
       "      <td>13863.0</td>\n",
       "      <td>54</td>\n",
       "      <td>1.0</td>\n",
       "      <td>0.0</td>\n",
       "      <td>1257.0</td>\n",
       "      <td>61.0</td>\n",
       "      <td>1318.0</td>\n",
       "    </tr>\n",
       "    <tr>\n",
       "      <th>55</th>\n",
       "      <td>20200409</td>\n",
       "      <td>WY</td>\n",
       "      <td>230.0</td>\n",
       "      <td>3920.0</td>\n",
       "      <td>1572.501022</td>\n",
       "      <td>34.000000</td>\n",
       "      <td>0.0</td>\n",
       "      <td>4150.0</td>\n",
       "      <td>231a30211b44fe5c73eef7f2161a0d501c682df9</td>\n",
       "      <td>2020-04-09T20:00:00Z</td>\n",
       "      <td>4150.0</td>\n",
       "      <td>56</td>\n",
       "      <td>0.0</td>\n",
       "      <td>1.0</td>\n",
       "      <td>77.0</td>\n",
       "      <td>9.0</td>\n",
       "      <td>86.0</td>\n",
       "    </tr>\n",
       "  </tbody>\n",
       "</table>\n",
       "</div>"
      ],
      "text/plain": [
       "        date state  positive  negative      pending  hospitalized  death  \\\n",
       "51  20200409    VT     628.0    7553.0  1572.501022   1572.501022   23.0   \n",
       "52  20200409    WA    9097.0   83391.0  1572.501022   1572.501022  421.0   \n",
       "53  20200409    WI    2885.0   31424.0  1572.501022    843.000000  111.0   \n",
       "54  20200409    WV     523.0   13340.0  1572.501022   1572.501022    5.0   \n",
       "55  20200409    WY     230.0    3920.0  1572.501022     34.000000    0.0   \n",
       "\n",
       "      total                                      hash           datechecked  \\\n",
       "51   8181.0  24b22733110eb020e8f1caee0a2cb8db9dd3b934  2020-04-09T20:00:00Z   \n",
       "52  92488.0  4432fef25b711ff1fdb9f13c0865d67bb2fa9628  2020-04-09T20:00:00Z   \n",
       "53  34309.0  aa5c7ae162799320b7accdadf68720fdb6c50f52  2020-04-09T20:00:00Z   \n",
       "54  13863.0  54cf0e05059125cce24ebdf1fdfdff35af1f361b  2020-04-09T20:00:00Z   \n",
       "55   4150.0  231a30211b44fe5c73eef7f2161a0d501c682df9  2020-04-09T20:00:00Z   \n",
       "\n",
       "    totaltestresults  fips  deathincrease  hospitalizedincrease  \\\n",
       "51            8181.0    50            0.0                   0.0   \n",
       "52           92488.0    53           27.0                   0.0   \n",
       "53           34309.0    55           12.0                  53.0   \n",
       "54           13863.0    54            1.0                   0.0   \n",
       "55            4150.0    56            0.0                   1.0   \n",
       "\n",
       "    negativeincrease  positiveincrease  totaltestresultsincrease  \n",
       "51             409.0              23.0                     432.0  \n",
       "52               0.0               0.0                       0.0  \n",
       "53            1309.0             129.0                    1438.0  \n",
       "54            1257.0              61.0                    1318.0  \n",
       "55              77.0               9.0                      86.0  "
      ]
     },
     "execution_count": 152,
     "metadata": {},
     "output_type": "execute_result"
    }
   ],
   "source": [
    "df_today.tail()"
   ]
  },
  {
   "cell_type": "code",
   "execution_count": 110,
   "metadata": {},
   "outputs": [
    {
     "data": {
      "text/plain": [
       "date                        56\n",
       "state                       56\n",
       "positive                    56\n",
       "negative                    56\n",
       "pending                     56\n",
       "hospitalized                56\n",
       "death                       56\n",
       "total                       56\n",
       "hash                        56\n",
       "datechecked                 56\n",
       "totaltestresults            56\n",
       "fips                        56\n",
       "deathincrease               56\n",
       "hospitalizedincrease        56\n",
       "negativeincrease            56\n",
       "positiveincrease            56\n",
       "totaltestresultsincrease    56\n",
       "dtype: int64"
      ]
     },
     "execution_count": 110,
     "metadata": {},
     "output_type": "execute_result"
    }
   ],
   "source": [
    "df_today.count()\n"
   ]
  },
  {
   "cell_type": "code",
   "execution_count": 224,
   "metadata": {},
   "outputs": [
    {
     "data": {
      "image/png": "[encoded data removed]",
      "text/plain": [
       "<Figure size 1440x1440 with 1 Axes>"
      ]
     },
     "metadata": {
      "needs_background": "light"
     },
     "output_type": "display_data"
    }
   ],
   "source": [
    "fig = plt.figure(figsize=(20,20))\n",
    "ax = fig.add_axes([0,0,1,1])\n",
    "ax.bar(df_today['state'],df_today['positive'], color=['blue'])\n",
    "plt.show()"
   ]
  },
  {
   "cell_type": "code",
   "execution_count": 222,
   "metadata": {},
   "outputs": [
    {
     "data": {
      "image/png": "[encoded data removed]",
      "text/plain": [
       "<Figure size 432x288 with 1 Axes>"
      ]
     },
     "metadata": {
      "needs_background": "light"
     },
     "output_type": "display_data"
    }
   ],
   "source": [
    "#fig = plt.figure(figsize=(20,20))\n",
    "#ax = fig.add_axes([0,0,1,1])\n",
    "df['datetime'] = df['date'].apply(lambda x: pd.to_datetime(str(x), format='%Y%m%d'))\n",
    "plt.plot(df[df['state'] == 'NY']['datetime'],df[df['state'] == 'NY']['positive'])\n",
    "plt.xticks(rotation=90)\n",
    "plt.show()"
   ]
  },
  {
   "cell_type": "code",
   "execution_count": 223,
   "metadata": {},
   "outputs": [
    {
     "name": "stderr",
     "output_type": "stream",
     "text": [
      "No handles with labels found to put in legend.\n"
     ]
    },
    {
     "data": {
      "text/plain": [
       "[<matplotlib.lines.Line2D at 0x127a8fb80>]"
      ]
     },
     "execution_count": 223,
     "metadata": {},
     "output_type": "execute_result"
    },
    {
     "data": {
      "image/png": "[encoded data removed]",
      "text/plain": [
       "<Figure size 1440x1440 with 1 Axes>"
      ]
     },
     "metadata": {
      "needs_background": "light"
     },
     "output_type": "display_data"
    }
   ],
   "source": [
    "# plt.xticks(rotation=90)\n",
    "# df[df['state'] == 'NY'].plot(x='datetime', y='positive', kind='line', \n",
    "#         figsize=(15,15 ), legend=True, style='yo-', label=\"positive people in NY by date\")\n",
    "\n",
    "# DF = pd.DataFrame()\n",
    "# DF['temp'] = temp\n",
    "# DF = DF.set_index(date_time)\n",
    "#df['date_time'] = pd.to_datetime(df['date'])\n",
    "fig, ax = plt.subplots(figsize=(20,20))\n",
    "fig.subplots_adjust(bottom=0.3)\n",
    "plt.xticks(rotation=90)\n",
    "plt.title(\"Number of positive cases in Ny with Date\", y=1.01, fontsize=20)\n",
    "plt.xlabel('Date',labelpad=15,fontsize=20)\n",
    "plt.ylabel('Positive cases in NY',labelpad=15,fontsize=20)\n",
    "plt.legend()\n",
    "# plt.plot(df[df['state'] == 'NY']['datetime'],df[df['state'] == 'NY']['positive'])\n",
    "plt.plot(df[df['state'] == 'NY']['datetime'], df[df['state'] == 'NY']['positive'],'r')"
   ]
  },
  {
   "cell_type": "code",
   "execution_count": null,
   "metadata": {},
   "outputs": [],
   "source": []
  }
 ],
 "metadata": {
  "kernelspec": {
   "display_name": "Python 3",
   "language": "python",
   "name": "python3"
  },
  "language_info": {
   "codemirror_mode": {
    "name": "ipython",
    "version": 3
   },
   "file_extension": ".py",
   "mimetype": "text/x-python",
   "name": "python",
   "nbconvert_exporter": "python",
   "pygments_lexer": "ipython3",
   "version": "3.8.1"
  }
 },
 "nbformat": 4,
 "nbformat_minor": 4
}
